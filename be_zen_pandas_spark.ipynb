{
  "cells": [
    {
      "cell_type": "markdown",
      "metadata": {
        "id": "view-in-github",
        "colab_type": "text"
      },
      "source": [
        "<a href=\"https://colab.research.google.com/github/abdulqadir100/be_zen/blob/main/be_zen_pandas_spark.ipynb\" target=\"_parent\"><img src=\"https://colab.research.google.com/assets/colab-badge.svg\" alt=\"Open In Colab\"/></a>"
      ]
    },
    {
      "cell_type": "markdown",
      "source": [
        "### 1. installing the required libraries"
      ],
      "metadata": {
        "id": "Pyn3G_mT62hY"
      }
    },
    {
      "cell_type": "code",
      "execution_count": 1,
      "metadata": {
        "tags": [],
        "colab": {
          "base_uri": "https://localhost:8080/"
        },
        "id": "gHKlC_IniN4a",
        "outputId": "0e7668c1-a557-4548-c56e-47894bfe46c2"
      },
      "outputs": [
        {
          "output_type": "stream",
          "name": "stdout",
          "text": [
            "Requirement already satisfied: pyunpack in /usr/local/lib/python3.7/dist-packages (0.2.2)\n",
            "Requirement already satisfied: easyprocess in /usr/local/lib/python3.7/dist-packages (from pyunpack) (1.1)\n",
            "Requirement already satisfied: entrypoint2 in /usr/local/lib/python3.7/dist-packages (from pyunpack) (1.0)\n",
            "Requirement already satisfied: rarfile in /usr/local/lib/python3.7/dist-packages (4.0)\n",
            "Requirement already satisfied: patool in /usr/local/lib/python3.7/dist-packages (1.12)\n",
            "Requirement already satisfied: gdown in /usr/local/lib/python3.7/dist-packages (4.4.0)\n",
            "Requirement already satisfied: six in /usr/local/lib/python3.7/dist-packages (from gdown) (1.15.0)\n",
            "Requirement already satisfied: filelock in /usr/local/lib/python3.7/dist-packages (from gdown) (3.7.0)\n",
            "Requirement already satisfied: requests[socks] in /usr/local/lib/python3.7/dist-packages (from gdown) (2.23.0)\n",
            "Requirement already satisfied: tqdm in /usr/local/lib/python3.7/dist-packages (from gdown) (4.64.0)\n",
            "Requirement already satisfied: beautifulsoup4 in /usr/local/lib/python3.7/dist-packages (from gdown) (4.6.3)\n",
            "Requirement already satisfied: urllib3!=1.25.0,!=1.25.1,<1.26,>=1.21.1 in /usr/local/lib/python3.7/dist-packages (from requests[socks]->gdown) (1.24.3)\n",
            "Requirement already satisfied: chardet<4,>=3.0.2 in /usr/local/lib/python3.7/dist-packages (from requests[socks]->gdown) (3.0.4)\n",
            "Requirement already satisfied: idna<3,>=2.5 in /usr/local/lib/python3.7/dist-packages (from requests[socks]->gdown) (2.10)\n",
            "Requirement already satisfied: certifi>=2017.4.17 in /usr/local/lib/python3.7/dist-packages (from requests[socks]->gdown) (2021.10.8)\n",
            "Requirement already satisfied: PySocks!=1.5.7,>=1.5.6 in /usr/local/lib/python3.7/dist-packages (from requests[socks]->gdown) (1.7.1)\n",
            "Requirement already satisfied: numpy in /usr/local/lib/python3.7/dist-packages (1.21.6)\n",
            "Requirement already satisfied: pandas in /usr/local/lib/python3.7/dist-packages (1.3.5)\n",
            "Requirement already satisfied: numpy>=1.17.3 in /usr/local/lib/python3.7/dist-packages (from pandas) (1.21.6)\n",
            "Requirement already satisfied: pytz>=2017.3 in /usr/local/lib/python3.7/dist-packages (from pandas) (2022.1)\n",
            "Requirement already satisfied: python-dateutil>=2.7.3 in /usr/local/lib/python3.7/dist-packages (from pandas) (2.8.2)\n",
            "Requirement already satisfied: six>=1.5 in /usr/local/lib/python3.7/dist-packages (from python-dateutil>=2.7.3->pandas) (1.15.0)\n",
            "Requirement already satisfied: matplotlib in /usr/local/lib/python3.7/dist-packages (3.2.2)\n",
            "Requirement already satisfied: kiwisolver>=1.0.1 in /usr/local/lib/python3.7/dist-packages (from matplotlib) (1.4.2)\n",
            "Requirement already satisfied: pyparsing!=2.0.4,!=2.1.2,!=2.1.6,>=2.0.1 in /usr/local/lib/python3.7/dist-packages (from matplotlib) (3.0.9)\n",
            "Requirement already satisfied: python-dateutil>=2.1 in /usr/local/lib/python3.7/dist-packages (from matplotlib) (2.8.2)\n",
            "Requirement already satisfied: numpy>=1.11 in /usr/local/lib/python3.7/dist-packages (from matplotlib) (1.21.6)\n",
            "Requirement already satisfied: cycler>=0.10 in /usr/local/lib/python3.7/dist-packages (from matplotlib) (0.11.0)\n",
            "Requirement already satisfied: typing-extensions in /usr/local/lib/python3.7/dist-packages (from kiwisolver>=1.0.1->matplotlib) (4.2.0)\n",
            "Requirement already satisfied: six>=1.5 in /usr/local/lib/python3.7/dist-packages (from python-dateutil>=2.1->matplotlib) (1.15.0)\n",
            "Requirement already satisfied: seaborn in /usr/local/lib/python3.7/dist-packages (0.11.2)\n",
            "Requirement already satisfied: pandas>=0.23 in /usr/local/lib/python3.7/dist-packages (from seaborn) (1.3.5)\n",
            "Requirement already satisfied: numpy>=1.15 in /usr/local/lib/python3.7/dist-packages (from seaborn) (1.21.6)\n",
            "Requirement already satisfied: scipy>=1.0 in /usr/local/lib/python3.7/dist-packages (from seaborn) (1.4.1)\n",
            "Requirement already satisfied: matplotlib>=2.2 in /usr/local/lib/python3.7/dist-packages (from seaborn) (3.2.2)\n",
            "Requirement already satisfied: python-dateutil>=2.1 in /usr/local/lib/python3.7/dist-packages (from matplotlib>=2.2->seaborn) (2.8.2)\n",
            "Requirement already satisfied: pyparsing!=2.0.4,!=2.1.2,!=2.1.6,>=2.0.1 in /usr/local/lib/python3.7/dist-packages (from matplotlib>=2.2->seaborn) (3.0.9)\n",
            "Requirement already satisfied: kiwisolver>=1.0.1 in /usr/local/lib/python3.7/dist-packages (from matplotlib>=2.2->seaborn) (1.4.2)\n",
            "Requirement already satisfied: cycler>=0.10 in /usr/local/lib/python3.7/dist-packages (from matplotlib>=2.2->seaborn) (0.11.0)\n",
            "Requirement already satisfied: typing-extensions in /usr/local/lib/python3.7/dist-packages (from kiwisolver>=1.0.1->matplotlib>=2.2->seaborn) (4.2.0)\n",
            "Requirement already satisfied: pytz>=2017.3 in /usr/local/lib/python3.7/dist-packages (from pandas>=0.23->seaborn) (2022.1)\n",
            "Requirement already satisfied: six>=1.5 in /usr/local/lib/python3.7/dist-packages (from python-dateutil>=2.1->matplotlib>=2.2->seaborn) (1.15.0)\n",
            "Requirement already satisfied: pyspark in /usr/local/lib/python3.7/dist-packages (3.2.1)\n",
            "Requirement already satisfied: py4j==0.10.9.3 in /usr/local/lib/python3.7/dist-packages (from pyspark) (0.10.9.3)\n",
            "Requirement already satisfied: findspark in /usr/local/lib/python3.7/dist-packages (2.0.1)\n"
          ]
        }
      ],
      "source": [
        "!pip install pyunpack\n",
        "!pip install rarfile\n",
        "!pip install patool\n",
        "!pip install gdown\n",
        "\n",
        "!pip install numpy\n",
        "!pip install pandas\n",
        "!pip install matplotlib\n",
        "!pip install seaborn\n",
        "!pip install pyspark\n",
        "!pip install findspark"
      ]
    },
    {
      "cell_type": "code",
      "source": [
        "import seaborn as sns\n",
        "import matplotlib.pyplot as plt\n",
        "sns.set()"
      ],
      "metadata": {
        "id": "eKKHi5BBmUF8"
      },
      "execution_count": 2,
      "outputs": []
    },
    {
      "cell_type": "markdown",
      "source": [
        "### 2. importing the required libraries"
      ],
      "metadata": {
        "id": "ZOuAJvcV8dWp"
      }
    },
    {
      "cell_type": "code",
      "execution_count": 3,
      "metadata": {
        "colab": {
          "base_uri": "https://localhost:8080/"
        },
        "id": "SW0iMpstiN4e",
        "outputId": "22f38bd8-7ff2-475e-d3c7-cc19d01594fe"
      },
      "outputs": [
        {
          "output_type": "stream",
          "name": "stderr",
          "text": [
            "WARNING:root:'PYARROW_IGNORE_TIMEZONE' environment variable was not set. It is required to set this environment variable to '1' in both driver and executor sides if you use pyarrow>=2.0.0. pandas-on-Spark will set it for you but it does not work if there is a Spark context already launched.\n"
          ]
        }
      ],
      "source": [
        "from pyunpack import Archive\n",
        "import rarfile\n",
        "import gdown\n",
        "import pandas as pd\n",
        "import numpy as np\n",
        "import pyspark.pandas as ps"
      ]
    },
    {
      "cell_type": "code",
      "source": [
        ""
      ],
      "metadata": {
        "id": "q8dQEYpu20Xv"
      },
      "execution_count": 3,
      "outputs": []
    },
    {
      "cell_type": "markdown",
      "source": [
        "\n",
        "### 3.helper functions for use in the code"
      ],
      "metadata": {
        "id": "uCbjISf4239m"
      }
    },
    {
      "cell_type": "code",
      "execution_count": 4,
      "metadata": {
        "id": "f6DCdQF9iN4i"
      },
      "outputs": [],
      "source": [
        "### a function of extract a rarfile\n",
        "def extract_rar(file):\n",
        "    rar = rarfile.RarFile(file)\n",
        "    Archive(file).extractall('/content')\n",
        "\n",
        "## a function to replace boolean values True and False with 1 and 0 respectively\n",
        "def bool_replace(x):\n",
        "  x=  str(x)\n",
        "  if x=='True':\n",
        "    return 1\n",
        "  else:\n",
        "    return 0\n",
        "\n",
        "## a function to return correct prices with the currency of the price included \n",
        "def correct_price(x):\n",
        "    if type(x) == str:\n",
        "        if '$' in x:\n",
        "            return x\n",
        "        else:\n",
        "            x = '$' + x\n",
        "            return x\n",
        "    else:\n",
        "        return x\n",
        "\n",
        "### this function extracts  value(monetary amount) from a price(currency and value)\n",
        "def extract_values(x):\n",
        "    x = str(x)\n",
        "    try :\n",
        "        x = float(x[1:])   \n",
        "        return x\n",
        "    except:\n",
        "        return np.nan"
      ]
    },
    {
      "cell_type": "markdown",
      "source": [
        "### 4. downloading the zipped file "
      ],
      "metadata": {
        "id": "MoktNLha8tgE"
      }
    },
    {
      "cell_type": "code",
      "source": [
        "## assigning the google drice which contains the zipped file to a variable\n",
        "url = 'https://drive.google.com/uc?id=1nMTwouqN1arIk02fjvLLjCDKqNnNlLWw'\n",
        "## name to the zipped file\n",
        "output = 'test.rar'\n",
        "## downloading the file from google drive to colab directory\n",
        "gdown.download(url, output, quiet=False)"
      ],
      "metadata": {
        "colab": {
          "base_uri": "https://localhost:8080/",
          "height": 105
        },
        "id": "OODqCgxIjPpv",
        "outputId": "75d1534a-ffd4-49a9-f539-f8aa1990dd12"
      },
      "execution_count": 5,
      "outputs": [
        {
          "output_type": "stream",
          "name": "stderr",
          "text": [
            "Downloading...\n",
            "From: https://drive.google.com/uc?id=1nMTwouqN1arIk02fjvLLjCDKqNnNlLWw\n",
            "To: /content/test.rar\n",
            "100%|██████████| 44.0M/44.0M [00:00<00:00, 69.3MB/s]\n"
          ]
        },
        {
          "output_type": "execute_result",
          "data": {
            "text/plain": [
              "'test.rar'"
            ],
            "application/vnd.google.colaboratory.intrinsic+json": {
              "type": "string"
            }
          },
          "metadata": {},
          "execution_count": 5
        }
      ]
    },
    {
      "cell_type": "markdown",
      "source": [
        "### 5. unzipping the saved test.rar file and saving its content to colab directory "
      ],
      "metadata": {
        "id": "hmxIJbyl6cdv"
      }
    },
    {
      "cell_type": "code",
      "execution_count": null,
      "metadata": {
        "id": "Xc6lsrLWiN4j"
      },
      "outputs": [],
      "source": [
        "extract_rar('/content/test.rar')"
      ]
    },
    {
      "cell_type": "markdown",
      "source": [
        "### 6. Using pandas to load a small chunk of the data for data visualization"
      ],
      "metadata": {
        "id": "ReqyGDdFj4AM"
      }
    },
    {
      "cell_type": "markdown",
      "source": [
        "#### dataset columns\n",
        "* UUID (Primary Key)\n",
        "* Price (String) \n",
        "*Price_unfiltered (String)\n",
        "*Product Type\n",
        "*Category\n",
        "*Level 1 -> This is just a classification of a product.\n"
      ],
      "metadata": {
        "id": "DqGWOtjcJoqP"
      }
    },
    {
      "cell_type": "code",
      "source": [
        "## reading 100000 values \n",
        "dataset  = pd.read_csv('/content/2022_02_08-02_30_31_AM.csv',chunksize = 100000)\n",
        "dataset = next(dataset)"
      ],
      "metadata": {
        "id": "FvhK_54DgwzG"
      },
      "execution_count": 7,
      "outputs": []
    },
    {
      "cell_type": "code",
      "source": [
        "## A peak at what the data looks like \n",
        "dataset.head()"
      ],
      "metadata": {
        "colab": {
          "base_uri": "https://localhost:8080/",
          "height": 513
        },
        "id": "6nLZwTE8h8w_",
        "outputId": "95dca519-cd60-4a0d-aeb4-97c8147ca6dd"
      },
      "execution_count": 8,
      "outputs": [
        {
          "output_type": "execute_result",
          "data": {
            "text/plain": [
              "                                   uuid price_string price_string_unf  \\\n",
              "0  638744a4-b0ae-4166-8cb6-5c063c862036          NaN              NaN   \n",
              "1  ab313969-02cc-48b2-9daf-0054efb70b92          NaN              NaN   \n",
              "2  acbd66ff-79f8-467a-91f9-108a45af5626       $19.95              NaN   \n",
              "3  963915d6-b2e3-4098-b242-9410593cf205       $92.00              NaN   \n",
              "4  b5b68f3c-b1e0-40e5-8ee5-e2f7236c1daf        11.50              NaN   \n",
              "\n",
              "                                        product_type  \\\n",
              "0                           TGFwdG9wIENvdmVycy9CYWdz   \n",
              "1                        QmFraW5nIEN1cHMgYW5kIE1hdHM   \n",
              "2  R3VtbWllcyB2aXRhbWlucyBhbmQgbWluZXJhbHMgZm9yIG...   \n",
              "3                                           U2VydW1z   \n",
              "4                    RWF0aW5nIFV0ZW5zaWxzL0N1dGxlcnk   \n",
              "\n",
              "                              level_1                          category  \n",
              "0                     TGFwdG9wIENhc2U                   RWxlY3Ryb25pY3M  \n",
              "1  QmFraW5nIE1hdHMgLyBCYWtpbmcgZGlzaA        a2l0Y2hpbmcgYW5kIGRpbmluZw  \n",
              "2              SW1tdW5pdHkgZ3VtbWllcw                          SGVhbHRo  \n",
              "3                      RmFjZSBTZXJ1bQ  YmVhdXR5IGFuZCBwZXJzb25hbCBjYXJl  \n",
              "4                      Q2hvcHN0aWNrcw        a2l0Y2hpbmcgYW5kIGRpbmluZw  "
            ],
            "text/html": [
              "\n",
              "  <div id=\"df-1969cded-2965-479e-a07e-dd23525c8ace\">\n",
              "    <div class=\"colab-df-container\">\n",
              "      <div>\n",
              "<style scoped>\n",
              "    .dataframe tbody tr th:only-of-type {\n",
              "        vertical-align: middle;\n",
              "    }\n",
              "\n",
              "    .dataframe tbody tr th {\n",
              "        vertical-align: top;\n",
              "    }\n",
              "\n",
              "    .dataframe thead th {\n",
              "        text-align: right;\n",
              "    }\n",
              "</style>\n",
              "<table border=\"1\" class=\"dataframe\">\n",
              "  <thead>\n",
              "    <tr style=\"text-align: right;\">\n",
              "      <th></th>\n",
              "      <th>uuid</th>\n",
              "      <th>price_string</th>\n",
              "      <th>price_string_unf</th>\n",
              "      <th>product_type</th>\n",
              "      <th>level_1</th>\n",
              "      <th>category</th>\n",
              "    </tr>\n",
              "  </thead>\n",
              "  <tbody>\n",
              "    <tr>\n",
              "      <th>0</th>\n",
              "      <td>638744a4-b0ae-4166-8cb6-5c063c862036</td>\n",
              "      <td>NaN</td>\n",
              "      <td>NaN</td>\n",
              "      <td>TGFwdG9wIENvdmVycy9CYWdz</td>\n",
              "      <td>TGFwdG9wIENhc2U</td>\n",
              "      <td>RWxlY3Ryb25pY3M</td>\n",
              "    </tr>\n",
              "    <tr>\n",
              "      <th>1</th>\n",
              "      <td>ab313969-02cc-48b2-9daf-0054efb70b92</td>\n",
              "      <td>NaN</td>\n",
              "      <td>NaN</td>\n",
              "      <td>QmFraW5nIEN1cHMgYW5kIE1hdHM</td>\n",
              "      <td>QmFraW5nIE1hdHMgLyBCYWtpbmcgZGlzaA</td>\n",
              "      <td>a2l0Y2hpbmcgYW5kIGRpbmluZw</td>\n",
              "    </tr>\n",
              "    <tr>\n",
              "      <th>2</th>\n",
              "      <td>acbd66ff-79f8-467a-91f9-108a45af5626</td>\n",
              "      <td>$19.95</td>\n",
              "      <td>NaN</td>\n",
              "      <td>R3VtbWllcyB2aXRhbWlucyBhbmQgbWluZXJhbHMgZm9yIG...</td>\n",
              "      <td>SW1tdW5pdHkgZ3VtbWllcw</td>\n",
              "      <td>SGVhbHRo</td>\n",
              "    </tr>\n",
              "    <tr>\n",
              "      <th>3</th>\n",
              "      <td>963915d6-b2e3-4098-b242-9410593cf205</td>\n",
              "      <td>$92.00</td>\n",
              "      <td>NaN</td>\n",
              "      <td>U2VydW1z</td>\n",
              "      <td>RmFjZSBTZXJ1bQ</td>\n",
              "      <td>YmVhdXR5IGFuZCBwZXJzb25hbCBjYXJl</td>\n",
              "    </tr>\n",
              "    <tr>\n",
              "      <th>4</th>\n",
              "      <td>b5b68f3c-b1e0-40e5-8ee5-e2f7236c1daf</td>\n",
              "      <td>11.50</td>\n",
              "      <td>NaN</td>\n",
              "      <td>RWF0aW5nIFV0ZW5zaWxzL0N1dGxlcnk</td>\n",
              "      <td>Q2hvcHN0aWNrcw</td>\n",
              "      <td>a2l0Y2hpbmcgYW5kIGRpbmluZw</td>\n",
              "    </tr>\n",
              "  </tbody>\n",
              "</table>\n",
              "</div>\n",
              "      <button class=\"colab-df-convert\" onclick=\"convertToInteractive('df-1969cded-2965-479e-a07e-dd23525c8ace')\"\n",
              "              title=\"Convert this dataframe to an interactive table.\"\n",
              "              style=\"display:none;\">\n",
              "        \n",
              "  <svg xmlns=\"http://www.w3.org/2000/svg\" height=\"24px\"viewBox=\"0 0 24 24\"\n",
              "       width=\"24px\">\n",
              "    <path d=\"M0 0h24v24H0V0z\" fill=\"none\"/>\n",
              "    <path d=\"M18.56 5.44l.94 2.06.94-2.06 2.06-.94-2.06-.94-.94-2.06-.94 2.06-2.06.94zm-11 1L8.5 8.5l.94-2.06 2.06-.94-2.06-.94L8.5 2.5l-.94 2.06-2.06.94zm10 10l.94 2.06.94-2.06 2.06-.94-2.06-.94-.94-2.06-.94 2.06-2.06.94z\"/><path d=\"M17.41 7.96l-1.37-1.37c-.4-.4-.92-.59-1.43-.59-.52 0-1.04.2-1.43.59L10.3 9.45l-7.72 7.72c-.78.78-.78 2.05 0 2.83L4 21.41c.39.39.9.59 1.41.59.51 0 1.02-.2 1.41-.59l7.78-7.78 2.81-2.81c.8-.78.8-2.07 0-2.86zM5.41 20L4 18.59l7.72-7.72 1.47 1.35L5.41 20z\"/>\n",
              "  </svg>\n",
              "      </button>\n",
              "      \n",
              "  <style>\n",
              "    .colab-df-container {\n",
              "      display:flex;\n",
              "      flex-wrap:wrap;\n",
              "      gap: 12px;\n",
              "    }\n",
              "\n",
              "    .colab-df-convert {\n",
              "      background-color: #E8F0FE;\n",
              "      border: none;\n",
              "      border-radius: 50%;\n",
              "      cursor: pointer;\n",
              "      display: none;\n",
              "      fill: #1967D2;\n",
              "      height: 32px;\n",
              "      padding: 0 0 0 0;\n",
              "      width: 32px;\n",
              "    }\n",
              "\n",
              "    .colab-df-convert:hover {\n",
              "      background-color: #E2EBFA;\n",
              "      box-shadow: 0px 1px 2px rgba(60, 64, 67, 0.3), 0px 1px 3px 1px rgba(60, 64, 67, 0.15);\n",
              "      fill: #174EA6;\n",
              "    }\n",
              "\n",
              "    [theme=dark] .colab-df-convert {\n",
              "      background-color: #3B4455;\n",
              "      fill: #D2E3FC;\n",
              "    }\n",
              "\n",
              "    [theme=dark] .colab-df-convert:hover {\n",
              "      background-color: #434B5C;\n",
              "      box-shadow: 0px 1px 3px 1px rgba(0, 0, 0, 0.15);\n",
              "      filter: drop-shadow(0px 1px 2px rgba(0, 0, 0, 0.3));\n",
              "      fill: #FFFFFF;\n",
              "    }\n",
              "  </style>\n",
              "\n",
              "      <script>\n",
              "        const buttonEl =\n",
              "          document.querySelector('#df-1969cded-2965-479e-a07e-dd23525c8ace button.colab-df-convert');\n",
              "        buttonEl.style.display =\n",
              "          google.colab.kernel.accessAllowed ? 'block' : 'none';\n",
              "\n",
              "        async function convertToInteractive(key) {\n",
              "          const element = document.querySelector('#df-1969cded-2965-479e-a07e-dd23525c8ace');\n",
              "          const dataTable =\n",
              "            await google.colab.kernel.invokeFunction('convertToInteractive',\n",
              "                                                     [key], {});\n",
              "          if (!dataTable) return;\n",
              "\n",
              "          const docLinkHtml = 'Like what you see? Visit the ' +\n",
              "            '<a target=\"_blank\" href=https://colab.research.google.com/notebooks/data_table.ipynb>data table notebook</a>'\n",
              "            + ' to learn more about interactive tables.';\n",
              "          element.innerHTML = '';\n",
              "          dataTable['output_type'] = 'display_data';\n",
              "          await google.colab.output.renderOutput(dataTable, element);\n",
              "          const docLink = document.createElement('div');\n",
              "          docLink.innerHTML = docLinkHtml;\n",
              "          element.appendChild(docLink);\n",
              "        }\n",
              "      </script>\n",
              "    </div>\n",
              "  </div>\n",
              "  "
            ]
          },
          "metadata": {},
          "execution_count": 8
        }
      ]
    },
    {
      "cell_type": "code",
      "source": [
        "##the dimension of the loaded chunk of data\n",
        "dataset.shape"
      ],
      "metadata": {
        "colab": {
          "base_uri": "https://localhost:8080/"
        },
        "id": "EoTM65q5iTJs",
        "outputId": "e509430e-86b2-487d-fb1a-cca62ba61f26"
      },
      "execution_count": 9,
      "outputs": [
        {
          "output_type": "execute_result",
          "data": {
            "text/plain": [
              "(100000, 6)"
            ]
          },
          "metadata": {},
          "execution_count": 9
        }
      ]
    },
    {
      "cell_type": "code",
      "source": [
        "## a summary of the data\n",
        "dataset.info()"
      ],
      "metadata": {
        "colab": {
          "base_uri": "https://localhost:8080/"
        },
        "id": "gAdTtdCok_EW",
        "outputId": "f2ede7f7-0541-4847-f283-fea98cd37e9a"
      },
      "execution_count": 10,
      "outputs": [
        {
          "output_type": "stream",
          "name": "stdout",
          "text": [
            "<class 'pandas.core.frame.DataFrame'>\n",
            "RangeIndex: 100000 entries, 0 to 99999\n",
            "Data columns (total 6 columns):\n",
            " #   Column            Non-Null Count   Dtype \n",
            "---  ------            --------------   ----- \n",
            " 0   uuid              100000 non-null  object\n",
            " 1   price_string      40149 non-null   object\n",
            " 2   price_string_unf  2321 non-null    object\n",
            " 3   product_type      99929 non-null   object\n",
            " 4   level_1           99628 non-null   object\n",
            " 5   category          99929 non-null   object\n",
            "dtypes: object(6)\n",
            "memory usage: 4.6+ MB\n"
          ]
        }
      ]
    },
    {
      "cell_type": "markdown",
      "source": [
        " *  Top 10 product id "
      ],
      "metadata": {
        "id": "fZuTQidOLmDj"
      }
    },
    {
      "cell_type": "code",
      "source": [
        "plt.figure(figsize = (10,5))\n",
        "dataset.uuid.value_counts().head(10).plot(kind=  'barh')"
      ],
      "metadata": {
        "colab": {
          "base_uri": "https://localhost:8080/",
          "height": 339
        },
        "id": "8c6YrjpDLYZs",
        "outputId": "66b92fd6-b192-460d-dffe-8897a6b5c4ee"
      },
      "execution_count": 11,
      "outputs": [
        {
          "output_type": "execute_result",
          "data": {
            "text/plain": [
              "<matplotlib.axes._subplots.AxesSubplot at 0x7f68ceb36ad0>"
            ]
          },
          "metadata": {},
          "execution_count": 11
        },
        {
          "output_type": "display_data",
          "data": {
            "text/plain": [
              "<Figure size 720x360 with 1 Axes>"
            ],
            "image/png": "[encoded data removed]"
          },
          "metadata": {}
        }
      ]
    },
    {
      "cell_type": "markdown",
      "source": [
        "* Top 10 product types"
      ],
      "metadata": {
        "id": "cLTn_PkHK7GP"
      }
    },
    {
      "cell_type": "code",
      "source": [
        "plt.figure(figsize = (10,5))\n",
        "dataset.product_type.value_counts().head(10).plot(kind=  'barh')"
      ],
      "metadata": {
        "colab": {
          "base_uri": "https://localhost:8080/",
          "height": 339
        },
        "id": "H_DwNoDfyRPB",
        "outputId": "f308f608-cb03-49c6-8599-970d995bbc82"
      },
      "execution_count": 12,
      "outputs": [
        {
          "output_type": "execute_result",
          "data": {
            "text/plain": [
              "<matplotlib.axes._subplots.AxesSubplot at 0x7f68cea05550>"
            ]
          },
          "metadata": {},
          "execution_count": 12
        },
        {
          "output_type": "display_data",
          "data": {
            "text/plain": [
              "<Figure size 720x360 with 1 Axes>"
            ],
            "image/png": "[encoded data removed]"
          },
          "metadata": {}
        }
      ]
    },
    {
      "cell_type": "markdown",
      "source": [
        " * Product categories and their count"
      ],
      "metadata": {
        "id": "XJS9R-EgLDX8"
      }
    },
    {
      "cell_type": "code",
      "source": [
        "plt.figure(figsize = (10,5))\n",
        "dataset.category.value_counts().plot(kind=  'barh')"
      ],
      "metadata": {
        "colab": {
          "base_uri": "https://localhost:8080/",
          "height": 339
        },
        "id": "Vq7YhxCil2EN",
        "outputId": "a889c0e2-f620-488f-980e-6b0e4c68fbe9"
      },
      "execution_count": 13,
      "outputs": [
        {
          "output_type": "execute_result",
          "data": {
            "text/plain": [
              "<matplotlib.axes._subplots.AxesSubplot at 0x7f68ce506a90>"
            ]
          },
          "metadata": {},
          "execution_count": 13
        },
        {
          "output_type": "display_data",
          "data": {
            "text/plain": [
              "<Figure size 720x360 with 1 Axes>"
            ],
            "image/png": "[encoded data removed]"
          },
          "metadata": {}
        }
      ]
    },
    {
      "cell_type": "markdown",
      "source": [
        "* Top 15 classes in the level_1 column"
      ],
      "metadata": {
        "id": "Sp3PHddFLNLa"
      }
    },
    {
      "cell_type": "code",
      "source": [
        "plt.figure(figsize = (10,5))\n",
        "dataset.level_1.value_counts().head(15).plot(kind=  'barh')"
      ],
      "metadata": {
        "colab": {
          "base_uri": "https://localhost:8080/",
          "height": 339
        },
        "id": "r6P0TYhcyLZt",
        "outputId": "35c33cf3-9bfc-42a3-cd8a-8c885b946360"
      },
      "execution_count": 14,
      "outputs": [
        {
          "output_type": "execute_result",
          "data": {
            "text/plain": [
              "<matplotlib.axes._subplots.AxesSubplot at 0x7f68ce484810>"
            ]
          },
          "metadata": {},
          "execution_count": 14
        },
        {
          "output_type": "display_data",
          "data": {
            "text/plain": [
              "<Figure size 720x360 with 1 Axes>"
            ],
            "image/png": "[encoded data removed]"
          },
          "metadata": {}
        }
      ]
    },
    {
      "cell_type": "markdown",
      "source": [
        "### 6. importing the extracted csv file using pyspark"
      ],
      "metadata": {
        "id": "W6IfsHeK9G0o"
      }
    },
    {
      "cell_type": "code",
      "execution_count": 15,
      "metadata": {
        "tags": [],
        "id": "KVOrFBNiiN4k"
      },
      "outputs": [],
      "source": [
        "df  =  ps.read_csv('/content/2022_02_08-02_30_31_AM.csv')"
      ]
    },
    {
      "cell_type": "markdown",
      "source": [
        "pyspark is used in loading the data because data is not actually loaded into the RAM memory because of its large size. Data is only loaded when an action is called on the pyspark variable, an action that needs to return a computed value while loading all this data in pandas without breaking it into chunks will cause out of memory error."
      ],
      "metadata": {
        "id": "-eDXlUkLPBBd"
      }
    },
    {
      "cell_type": "code",
      "execution_count": 16,
      "metadata": {
        "execution": {
          "iopub.execute_input": "2022-05-22T08:49:05.975218Z",
          "iopub.status.busy": "2022-05-22T08:49:05.974296Z",
          "iopub.status.idle": "2022-05-22T08:49:10.497082Z",
          "shell.execute_reply": "2022-05-22T08:49:10.496252Z",
          "shell.execute_reply.started": "2022-05-22T08:49:05.975167Z"
        },
        "colab": {
          "base_uri": "https://localhost:8080/"
        },
        "id": "oxcm-jm0iN4l",
        "outputId": "dd1faace-43e9-4325-ad56-ef92c6bbd75a"
      },
      "outputs": [
        {
          "output_type": "execute_result",
          "data": {
            "text/plain": [
              "(13790000, 6)"
            ]
          },
          "metadata": {},
          "execution_count": 16
        }
      ],
      "source": [
        "## checking the shape of the data\n",
        "df.shape"
      ]
    },
    {
      "cell_type": "code",
      "execution_count": 17,
      "metadata": {
        "execution": {
          "iopub.execute_input": "2022-05-22T08:49:10.499342Z",
          "iopub.status.busy": "2022-05-22T08:49:10.498779Z",
          "iopub.status.idle": "2022-05-22T08:49:38.695337Z",
          "shell.execute_reply": "2022-05-22T08:49:38.694442Z",
          "shell.execute_reply.started": "2022-05-22T08:49:10.499298Z"
        },
        "colab": {
          "base_uri": "https://localhost:8080/"
        },
        "id": "XJ12v7YgiN4m",
        "outputId": "b8f0d3c6-43e6-45f2-d2a2-e48ac2765d37"
      },
      "outputs": [
        {
          "output_type": "execute_result",
          "data": {
            "text/plain": [
              "uuid                1379\n",
              "price_string         251\n",
              "price_string_unf      30\n",
              "product_type         323\n",
              "level_1              595\n",
              "category              13\n",
              "dtype: int64"
            ]
          },
          "metadata": {},
          "execution_count": 17
        }
      ],
      "source": [
        "## checking for the number of unique columns across the dataset\n",
        "df.nunique()"
      ]
    },
    {
      "cell_type": "markdown",
      "metadata": {
        "id": "5rE6_osPiN4o"
      },
      "source": [
        "## Question 1.Products without prices"
      ]
    },
    {
      "cell_type": "code",
      "execution_count": 18,
      "metadata": {
        "execution": {
          "iopub.execute_input": "2022-05-22T08:49:38.697442Z",
          "iopub.status.busy": "2022-05-22T08:49:38.697143Z",
          "iopub.status.idle": "2022-05-22T08:49:38.733701Z",
          "shell.execute_reply": "2022-05-22T08:49:38.733012Z",
          "shell.execute_reply.started": "2022-05-22T08:49:38.697401Z"
        },
        "id": "SAR0GzMpiN4p"
      },
      "outputs": [],
      "source": [
        "###creating two new columns to holds boolean records of if the \"price_string\" column has a value or if it is empty\n",
        "df['with_price'] = df.price_string.notnull()\n",
        "df['without_price'] = df.price_string.isnull()\n",
        "\n",
        "## replacting the generated boolean (True, False) with  1,0 where applicable for both columns using the 'bool_replace' function\n",
        "df.with_price = df.with_price.apply(bool_replace)\n",
        "df.without_price = df.without_price.apply(bool_replace)"
      ]
    },
    {
      "cell_type": "code",
      "execution_count": 19,
      "metadata": {
        "execution": {
          "iopub.execute_input": "2022-05-22T08:49:38.735170Z",
          "iopub.status.busy": "2022-05-22T08:49:38.734790Z",
          "iopub.status.idle": "2022-05-22T08:49:38.918249Z",
          "shell.execute_reply": "2022-05-22T08:49:38.917465Z",
          "shell.execute_reply.started": "2022-05-22T08:49:38.735133Z"
        },
        "id": "9E7LWeAbiN4q"
      },
      "outputs": [],
      "source": [
        "## getting products without prices by filtering the dataset with the created 'withour_price' column\n",
        "product_without_price = df[df.without_price==1]"
      ]
    },
    {
      "cell_type": "code",
      "execution_count": 20,
      "metadata": {
        "execution": {
          "iopub.execute_input": "2022-05-22T08:49:38.919485Z",
          "iopub.status.busy": "2022-05-22T08:49:38.919225Z",
          "iopub.status.idle": "2022-05-22T08:50:43.200156Z",
          "shell.execute_reply": "2022-05-22T08:50:43.199290Z",
          "shell.execute_reply.started": "2022-05-22T08:49:38.919456Z"
        },
        "colab": {
          "base_uri": "https://localhost:8080/",
          "height": 469
        },
        "id": "E7mTKGadiN4q",
        "outputId": "4ec75257-b786-4298-9949-77eefdefd2cd"
      },
      "outputs": [
        {
          "output_type": "execute_result",
          "data": {
            "text/plain": [
              "                                    uuid price_string price_string_unf                         product_type                             level_1                          category  with_price  without_price\n",
              "0   638744a4-b0ae-4166-8cb6-5c063c862036         None             None             TGFwdG9wIENvdmVycy9CYWdz                     TGFwdG9wIENhc2U                   RWxlY3Ryb25pY3M           0              1\n",
              "1   ab313969-02cc-48b2-9daf-0054efb70b92         None             None          QmFraW5nIEN1cHMgYW5kIE1hdHM  QmFraW5nIE1hdHMgLyBCYWtpbmcgZGlzaA        a2l0Y2hpbmcgYW5kIGRpbmluZw           0              1\n",
              "5   389d9f75-cc3f-4bd2-94f7-93e381a3bed5         None             None   TmF0dXJhbCBTd2VldGVuZXJzLyBTdWdhcg                      TW9uayBGcnVpdA                      Z3JvY2VyaWVz           0              1\n",
              "13  1f2766ec-0a27-43f8-b28b-77a44492ead1         None             None  U2NydWJzIGFuZCBjbGVhbmluZyBjbG90aHM                            U2NydWJz    SG91c2Vob2xkIGFuZCBDbGVhbmluZw           0              1\n",
              "16  7bad39f5-74b9-4611-afb9-46fb135190cd         None             None          UGx1cyBzaXplIHdlYXIgZHJlc3M                             RHJlc3M  Q2xvdGhpbmcgYW5kIEFjY2Vzc29yaWVz           0              1"
            ],
            "text/html": [
              "<div>\n",
              "<style scoped>\n",
              "    .dataframe tbody tr th:only-of-type {\n",
              "        vertical-align: middle;\n",
              "    }\n",
              "\n",
              "    .dataframe tbody tr th {\n",
              "        vertical-align: top;\n",
              "    }\n",
              "\n",
              "    .dataframe thead th {\n",
              "        text-align: right;\n",
              "    }\n",
              "</style>\n",
              "<table border=\"1\" class=\"dataframe\">\n",
              "  <thead>\n",
              "    <tr style=\"text-align: right;\">\n",
              "      <th></th>\n",
              "      <th>uuid</th>\n",
              "      <th>price_string</th>\n",
              "      <th>price_string_unf</th>\n",
              "      <th>product_type</th>\n",
              "      <th>level_1</th>\n",
              "      <th>category</th>\n",
              "      <th>with_price</th>\n",
              "      <th>without_price</th>\n",
              "    </tr>\n",
              "  </thead>\n",
              "  <tbody>\n",
              "    <tr>\n",
              "      <th>0</th>\n",
              "      <td>638744a4-b0ae-4166-8cb6-5c063c862036</td>\n",
              "      <td>None</td>\n",
              "      <td>None</td>\n",
              "      <td>TGFwdG9wIENvdmVycy9CYWdz</td>\n",
              "      <td>TGFwdG9wIENhc2U</td>\n",
              "      <td>RWxlY3Ryb25pY3M</td>\n",
              "      <td>0</td>\n",
              "      <td>1</td>\n",
              "    </tr>\n",
              "    <tr>\n",
              "      <th>1</th>\n",
              "      <td>ab313969-02cc-48b2-9daf-0054efb70b92</td>\n",
              "      <td>None</td>\n",
              "      <td>None</td>\n",
              "      <td>QmFraW5nIEN1cHMgYW5kIE1hdHM</td>\n",
              "      <td>QmFraW5nIE1hdHMgLyBCYWtpbmcgZGlzaA</td>\n",
              "      <td>a2l0Y2hpbmcgYW5kIGRpbmluZw</td>\n",
              "      <td>0</td>\n",
              "      <td>1</td>\n",
              "    </tr>\n",
              "    <tr>\n",
              "      <th>5</th>\n",
              "      <td>389d9f75-cc3f-4bd2-94f7-93e381a3bed5</td>\n",
              "      <td>None</td>\n",
              "      <td>None</td>\n",
              "      <td>TmF0dXJhbCBTd2VldGVuZXJzLyBTdWdhcg</td>\n",
              "      <td>TW9uayBGcnVpdA</td>\n",
              "      <td>Z3JvY2VyaWVz</td>\n",
              "      <td>0</td>\n",
              "      <td>1</td>\n",
              "    </tr>\n",
              "    <tr>\n",
              "      <th>13</th>\n",
              "      <td>1f2766ec-0a27-43f8-b28b-77a44492ead1</td>\n",
              "      <td>None</td>\n",
              "      <td>None</td>\n",
              "      <td>U2NydWJzIGFuZCBjbGVhbmluZyBjbG90aHM</td>\n",
              "      <td>U2NydWJz</td>\n",
              "      <td>SG91c2Vob2xkIGFuZCBDbGVhbmluZw</td>\n",
              "      <td>0</td>\n",
              "      <td>1</td>\n",
              "    </tr>\n",
              "    <tr>\n",
              "      <th>16</th>\n",
              "      <td>7bad39f5-74b9-4611-afb9-46fb135190cd</td>\n",
              "      <td>None</td>\n",
              "      <td>None</td>\n",
              "      <td>UGx1cyBzaXplIHdlYXIgZHJlc3M</td>\n",
              "      <td>RHJlc3M</td>\n",
              "      <td>Q2xvdGhpbmcgYW5kIEFjY2Vzc29yaWVz</td>\n",
              "      <td>0</td>\n",
              "      <td>1</td>\n",
              "    </tr>\n",
              "  </tbody>\n",
              "</table>\n",
              "</div>"
            ]
          },
          "metadata": {},
          "execution_count": 20
        }
      ],
      "source": [
        "## 5 sample products from the generated products without price data\n",
        "product_without_price.head()"
      ]
    },
    {
      "cell_type": "markdown",
      "metadata": {
        "id": "uirgOWEuiN4r"
      },
      "source": [
        "##Question 2. Count of products without prices and with prices in each Product Type, Category, Level1"
      ]
    },
    {
      "cell_type": "code",
      "execution_count": 21,
      "metadata": {
        "execution": {
          "iopub.execute_input": "2022-05-22T08:50:43.202632Z",
          "iopub.status.busy": "2022-05-22T08:50:43.202029Z",
          "iopub.status.idle": "2022-05-22T08:51:02.327053Z",
          "shell.execute_reply": "2022-05-22T08:51:02.326247Z",
          "shell.execute_reply.started": "2022-05-22T08:50:43.202572Z"
        },
        "colab": {
          "base_uri": "https://localhost:8080/",
          "height": 394
        },
        "id": "npswjVx9iN4r",
        "outputId": "b58d0223-d307-4458-e59a-3b37aa1cd268"
      },
      "outputs": [
        {
          "output_type": "execute_result",
          "data": {
            "text/plain": [
              "                                                                                                            with_price  without_price\n",
              "product_type                       category                            level_1                                                       \n",
              "Rm9vZCBTdG9yYWdl                   a2l0Y2hpbmcgYW5kIGRpbmluZw          V3JhcHMgYW5kIENvdmVycw                    10000          20000\n",
              "Q3JhZnQgcmliYm9ucw                 QXJ0IHN1cHBsaWVz                    Q3JhZnQgcmliYm9ucw                        10000              0\n",
              "UGFwZXIgVG93ZWwgQWx0ZXJuYXRpdmVz   SG91c2Vob2xkIGFuZCBDbGVhbmluZw      RGlzaGNsb3Ro                                  0          30000\n",
              "TmF0dXJhbCBTd2VldGVuZXJzLyBTdWdhcg Z3JvY2VyaWVz                        U3Rldmlh                                  10000          10000\n",
              "V2F0ZXIgRmlsdGVyIERpc3BlbnNlcg     VG9vbHMgYW5kIGhvbWUgaW1wcm92ZW1lbnQ MzAgQ3Vw                                  10000              0\n",
              "U2hhdmluZyBDcmVhbQ                 YmVhdXR5IGFuZCBwZXJzb25hbCBjYXJl    U2hhdmluZyBDcmVhbQ                        10000              0\n",
              "QmFieSBXaXBlcw                     QmFieWNhcmU                         QmFieSBXaXBlcw                            10000          10000\n",
              "TWF0ZXJuaXR5IFRzaGlydA             Q2xvdGhpbmcgYW5kIEFjY2Vzc29yaWVz    TWF0ZXJuaXR5IFNob3J0IHNsZWV2ZSB0ZWU           0          30000\n",
              "RHV2ZXQgY292ZXJz                   SG91c2Vob2xkIGFuZCBDbGVhbmluZw      c2F0ZWVuIGR1dmV0IGNvdmVy                  10000          20000\n",
              "TGVhc2hlcyBwZXRz                   cGV0IHN1cHBsaWVz                    RG9nIGxlYXNoZXM                           10000          20000"
            ],
            "text/html": [
              "<div>\n",
              "<style scoped>\n",
              "    .dataframe tbody tr th:only-of-type {\n",
              "        vertical-align: middle;\n",
              "    }\n",
              "\n",
              "    .dataframe tbody tr th {\n",
              "        vertical-align: top;\n",
              "    }\n",
              "\n",
              "    .dataframe thead th {\n",
              "        text-align: right;\n",
              "    }\n",
              "</style>\n",
              "<table border=\"1\" class=\"dataframe\">\n",
              "  <thead>\n",
              "    <tr style=\"text-align: right;\">\n",
              "      <th></th>\n",
              "      <th></th>\n",
              "      <th></th>\n",
              "      <th>with_price</th>\n",
              "      <th>without_price</th>\n",
              "    </tr>\n",
              "    <tr>\n",
              "      <th>product_type</th>\n",
              "      <th>category</th>\n",
              "      <th>level_1</th>\n",
              "      <th></th>\n",
              "      <th></th>\n",
              "    </tr>\n",
              "  </thead>\n",
              "  <tbody>\n",
              "    <tr>\n",
              "      <th>Rm9vZCBTdG9yYWdl</th>\n",
              "      <th>a2l0Y2hpbmcgYW5kIGRpbmluZw</th>\n",
              "      <th>V3JhcHMgYW5kIENvdmVycw</th>\n",
              "      <td>10000</td>\n",
              "      <td>20000</td>\n",
              "    </tr>\n",
              "    <tr>\n",
              "      <th>Q3JhZnQgcmliYm9ucw</th>\n",
              "      <th>QXJ0IHN1cHBsaWVz</th>\n",
              "      <th>Q3JhZnQgcmliYm9ucw</th>\n",
              "      <td>10000</td>\n",
              "      <td>0</td>\n",
              "    </tr>\n",
              "    <tr>\n",
              "      <th>UGFwZXIgVG93ZWwgQWx0ZXJuYXRpdmVz</th>\n",
              "      <th>SG91c2Vob2xkIGFuZCBDbGVhbmluZw</th>\n",
              "      <th>RGlzaGNsb3Ro</th>\n",
              "      <td>0</td>\n",
              "      <td>30000</td>\n",
              "    </tr>\n",
              "    <tr>\n",
              "      <th>TmF0dXJhbCBTd2VldGVuZXJzLyBTdWdhcg</th>\n",
              "      <th>Z3JvY2VyaWVz</th>\n",
              "      <th>U3Rldmlh</th>\n",
              "      <td>10000</td>\n",
              "      <td>10000</td>\n",
              "    </tr>\n",
              "    <tr>\n",
              "      <th>V2F0ZXIgRmlsdGVyIERpc3BlbnNlcg</th>\n",
              "      <th>VG9vbHMgYW5kIGhvbWUgaW1wcm92ZW1lbnQ</th>\n",
              "      <th>MzAgQ3Vw</th>\n",
              "      <td>10000</td>\n",
              "      <td>0</td>\n",
              "    </tr>\n",
              "    <tr>\n",
              "      <th>U2hhdmluZyBDcmVhbQ</th>\n",
              "      <th>YmVhdXR5IGFuZCBwZXJzb25hbCBjYXJl</th>\n",
              "      <th>U2hhdmluZyBDcmVhbQ</th>\n",
              "      <td>10000</td>\n",
              "      <td>0</td>\n",
              "    </tr>\n",
              "    <tr>\n",
              "      <th>QmFieSBXaXBlcw</th>\n",
              "      <th>QmFieWNhcmU</th>\n",
              "      <th>QmFieSBXaXBlcw</th>\n",
              "      <td>10000</td>\n",
              "      <td>10000</td>\n",
              "    </tr>\n",
              "    <tr>\n",
              "      <th>TWF0ZXJuaXR5IFRzaGlydA</th>\n",
              "      <th>Q2xvdGhpbmcgYW5kIEFjY2Vzc29yaWVz</th>\n",
              "      <th>TWF0ZXJuaXR5IFNob3J0IHNsZWV2ZSB0ZWU</th>\n",
              "      <td>0</td>\n",
              "      <td>30000</td>\n",
              "    </tr>\n",
              "    <tr>\n",
              "      <th>RHV2ZXQgY292ZXJz</th>\n",
              "      <th>SG91c2Vob2xkIGFuZCBDbGVhbmluZw</th>\n",
              "      <th>c2F0ZWVuIGR1dmV0IGNvdmVy</th>\n",
              "      <td>10000</td>\n",
              "      <td>20000</td>\n",
              "    </tr>\n",
              "    <tr>\n",
              "      <th>TGVhc2hlcyBwZXRz</th>\n",
              "      <th>cGV0IHN1cHBsaWVz</th>\n",
              "      <th>RG9nIGxlYXNoZXM</th>\n",
              "      <td>10000</td>\n",
              "      <td>20000</td>\n",
              "    </tr>\n",
              "  </tbody>\n",
              "</table>\n",
              "</div>"
            ]
          },
          "metadata": {},
          "execution_count": 21
        }
      ],
      "source": [
        "## grouping the dataset with 'product_type','category' and  'level_1' columns and aggregating by the sum to get the count of products with and without prices\n",
        "product_count = df.groupby([ 'product_type','category', 'level_1']).sum()[['with_price','without_price']]\n",
        "product_count.head(10)"
      ]
    },
    {
      "cell_type": "markdown",
      "metadata": {
        "id": "vt6oDTZfiN4s"
      },
      "source": [
        "## 3.Correct Product Prices in the correct format (eg: $56) wherever possible and separate them into currency and value columns."
      ]
    },
    {
      "cell_type": "code",
      "execution_count": 22,
      "metadata": {
        "execution": {
          "iopub.execute_input": "2022-05-22T08:51:02.343590Z",
          "iopub.status.busy": "2022-05-22T08:51:02.342291Z",
          "iopub.status.idle": "2022-05-22T08:51:23.200550Z",
          "shell.execute_reply": "2022-05-22T08:51:23.199503Z",
          "shell.execute_reply.started": "2022-05-22T08:51:02.343522Z"
        },
        "colab": {
          "base_uri": "https://localhost:8080/",
          "height": 469
        },
        "id": "1IUSHj_RiN4t",
        "outputId": "629f5a9e-0d3c-43a3-aaab-b4ffdf683e81"
      },
      "outputs": [
        {
          "output_type": "execute_result",
          "data": {
            "text/plain": [
              "                                   uuid price_string price_string_unf                                         product_type                             level_1                          category  with_price  without_price\n",
              "0  638744a4-b0ae-4166-8cb6-5c063c862036         None             None                             TGFwdG9wIENvdmVycy9CYWdz                     TGFwdG9wIENhc2U                   RWxlY3Ryb25pY3M           0              1\n",
              "1  ab313969-02cc-48b2-9daf-0054efb70b92         None             None                          QmFraW5nIEN1cHMgYW5kIE1hdHM  QmFraW5nIE1hdHMgLyBCYWtpbmcgZGlzaA        a2l0Y2hpbmcgYW5kIGRpbmluZw           0              1\n",
              "2  acbd66ff-79f8-467a-91f9-108a45af5626       $19.95             None  R3VtbWllcyB2aXRhbWlucyBhbmQgbWluZXJhbHMgZm9yIGtpZHM              SW1tdW5pdHkgZ3VtbWllcw                          SGVhbHRo           1              0\n",
              "3  963915d6-b2e3-4098-b242-9410593cf205       $92.00             None                                             U2VydW1z                      RmFjZSBTZXJ1bQ  YmVhdXR5IGFuZCBwZXJzb25hbCBjYXJl           1              0\n",
              "4  b5b68f3c-b1e0-40e5-8ee5-e2f7236c1daf        11.50             None                      RWF0aW5nIFV0ZW5zaWxzL0N1dGxlcnk                      Q2hvcHN0aWNrcw        a2l0Y2hpbmcgYW5kIGRpbmluZw           1              0"
            ],
            "text/html": [
              "<div>\n",
              "<style scoped>\n",
              "    .dataframe tbody tr th:only-of-type {\n",
              "        vertical-align: middle;\n",
              "    }\n",
              "\n",
              "    .dataframe tbody tr th {\n",
              "        vertical-align: top;\n",
              "    }\n",
              "\n",
              "    .dataframe thead th {\n",
              "        text-align: right;\n",
              "    }\n",
              "</style>\n",
              "<table border=\"1\" class=\"dataframe\">\n",
              "  <thead>\n",
              "    <tr style=\"text-align: right;\">\n",
              "      <th></th>\n",
              "      <th>uuid</th>\n",
              "      <th>price_string</th>\n",
              "      <th>price_string_unf</th>\n",
              "      <th>product_type</th>\n",
              "      <th>level_1</th>\n",
              "      <th>category</th>\n",
              "      <th>with_price</th>\n",
              "      <th>without_price</th>\n",
              "    </tr>\n",
              "  </thead>\n",
              "  <tbody>\n",
              "    <tr>\n",
              "      <th>0</th>\n",
              "      <td>638744a4-b0ae-4166-8cb6-5c063c862036</td>\n",
              "      <td>None</td>\n",
              "      <td>None</td>\n",
              "      <td>TGFwdG9wIENvdmVycy9CYWdz</td>\n",
              "      <td>TGFwdG9wIENhc2U</td>\n",
              "      <td>RWxlY3Ryb25pY3M</td>\n",
              "      <td>0</td>\n",
              "      <td>1</td>\n",
              "    </tr>\n",
              "    <tr>\n",
              "      <th>1</th>\n",
              "      <td>ab313969-02cc-48b2-9daf-0054efb70b92</td>\n",
              "      <td>None</td>\n",
              "      <td>None</td>\n",
              "      <td>QmFraW5nIEN1cHMgYW5kIE1hdHM</td>\n",
              "      <td>QmFraW5nIE1hdHMgLyBCYWtpbmcgZGlzaA</td>\n",
              "      <td>a2l0Y2hpbmcgYW5kIGRpbmluZw</td>\n",
              "      <td>0</td>\n",
              "      <td>1</td>\n",
              "    </tr>\n",
              "    <tr>\n",
              "      <th>2</th>\n",
              "      <td>acbd66ff-79f8-467a-91f9-108a45af5626</td>\n",
              "      <td>$19.95</td>\n",
              "      <td>None</td>\n",
              "      <td>R3VtbWllcyB2aXRhbWlucyBhbmQgbWluZXJhbHMgZm9yIG...</td>\n",
              "      <td>SW1tdW5pdHkgZ3VtbWllcw</td>\n",
              "      <td>SGVhbHRo</td>\n",
              "      <td>1</td>\n",
              "      <td>0</td>\n",
              "    </tr>\n",
              "    <tr>\n",
              "      <th>3</th>\n",
              "      <td>963915d6-b2e3-4098-b242-9410593cf205</td>\n",
              "      <td>$92.00</td>\n",
              "      <td>None</td>\n",
              "      <td>U2VydW1z</td>\n",
              "      <td>RmFjZSBTZXJ1bQ</td>\n",
              "      <td>YmVhdXR5IGFuZCBwZXJzb25hbCBjYXJl</td>\n",
              "      <td>1</td>\n",
              "      <td>0</td>\n",
              "    </tr>\n",
              "    <tr>\n",
              "      <th>4</th>\n",
              "      <td>b5b68f3c-b1e0-40e5-8ee5-e2f7236c1daf</td>\n",
              "      <td>11.50</td>\n",
              "      <td>None</td>\n",
              "      <td>RWF0aW5nIFV0ZW5zaWxzL0N1dGxlcnk</td>\n",
              "      <td>Q2hvcHN0aWNrcw</td>\n",
              "      <td>a2l0Y2hpbmcgYW5kIGRpbmluZw</td>\n",
              "      <td>1</td>\n",
              "      <td>0</td>\n",
              "    </tr>\n",
              "  </tbody>\n",
              "</table>\n",
              "</div>"
            ]
          },
          "metadata": {},
          "execution_count": 22
        }
      ],
      "source": [
        "df.head()"
      ]
    },
    {
      "cell_type": "code",
      "execution_count": 23,
      "metadata": {
        "execution": {
          "iopub.execute_input": "2022-05-22T08:51:23.202828Z",
          "iopub.status.busy": "2022-05-22T08:51:23.202507Z",
          "iopub.status.idle": "2022-05-22T08:51:38.088103Z",
          "shell.execute_reply": "2022-05-22T08:51:38.087030Z",
          "shell.execute_reply.started": "2022-05-22T08:51:23.202782Z"
        },
        "id": "JwYDlcBmiN4t"
      },
      "outputs": [],
      "source": [
        "## applying the function 'correct_price' to unify the format of the 'price_string' column\n",
        "df.price_string = df.price_string.apply(correct_price)"
      ]
    },
    {
      "cell_type": "code",
      "execution_count": 24,
      "metadata": {
        "execution": {
          "iopub.execute_input": "2022-05-22T08:51:38.090210Z",
          "iopub.status.busy": "2022-05-22T08:51:38.089426Z",
          "iopub.status.idle": "2022-05-22T08:52:02.165239Z",
          "shell.execute_reply": "2022-05-22T08:52:02.164482Z",
          "shell.execute_reply.started": "2022-05-22T08:51:38.090169Z"
        },
        "colab": {
          "base_uri": "https://localhost:8080/",
          "height": 469
        },
        "id": "BF-DMgk4iN4t",
        "outputId": "5cc5fb93-f9a5-4238-a033-6c678abdc150"
      },
      "outputs": [
        {
          "output_type": "execute_result",
          "data": {
            "text/plain": [
              "                                   uuid price_string price_string_unf                                         product_type                             level_1                          category  with_price  without_price\n",
              "0  638744a4-b0ae-4166-8cb6-5c063c862036         None             None                             TGFwdG9wIENvdmVycy9CYWdz                     TGFwdG9wIENhc2U                   RWxlY3Ryb25pY3M           0              1\n",
              "1  ab313969-02cc-48b2-9daf-0054efb70b92         None             None                          QmFraW5nIEN1cHMgYW5kIE1hdHM  QmFraW5nIE1hdHMgLyBCYWtpbmcgZGlzaA        a2l0Y2hpbmcgYW5kIGRpbmluZw           0              1\n",
              "2  acbd66ff-79f8-467a-91f9-108a45af5626       $19.95             None  R3VtbWllcyB2aXRhbWlucyBhbmQgbWluZXJhbHMgZm9yIGtpZHM              SW1tdW5pdHkgZ3VtbWllcw                          SGVhbHRo           1              0\n",
              "3  963915d6-b2e3-4098-b242-9410593cf205       $92.00             None                                             U2VydW1z                      RmFjZSBTZXJ1bQ  YmVhdXR5IGFuZCBwZXJzb25hbCBjYXJl           1              0\n",
              "4  b5b68f3c-b1e0-40e5-8ee5-e2f7236c1daf       $11.50             None                      RWF0aW5nIFV0ZW5zaWxzL0N1dGxlcnk                      Q2hvcHN0aWNrcw        a2l0Y2hpbmcgYW5kIGRpbmluZw           1              0"
            ],
            "text/html": [
              "<div>\n",
              "<style scoped>\n",
              "    .dataframe tbody tr th:only-of-type {\n",
              "        vertical-align: middle;\n",
              "    }\n",
              "\n",
              "    .dataframe tbody tr th {\n",
              "        vertical-align: top;\n",
              "    }\n",
              "\n",
              "    .dataframe thead th {\n",
              "        text-align: right;\n",
              "    }\n",
              "</style>\n",
              "<table border=\"1\" class=\"dataframe\">\n",
              "  <thead>\n",
              "    <tr style=\"text-align: right;\">\n",
              "      <th></th>\n",
              "      <th>uuid</th>\n",
              "      <th>price_string</th>\n",
              "      <th>price_string_unf</th>\n",
              "      <th>product_type</th>\n",
              "      <th>level_1</th>\n",
              "      <th>category</th>\n",
              "      <th>with_price</th>\n",
              "      <th>without_price</th>\n",
              "    </tr>\n",
              "  </thead>\n",
              "  <tbody>\n",
              "    <tr>\n",
              "      <th>0</th>\n",
              "      <td>638744a4-b0ae-4166-8cb6-5c063c862036</td>\n",
              "      <td>None</td>\n",
              "      <td>None</td>\n",
              "      <td>TGFwdG9wIENvdmVycy9CYWdz</td>\n",
              "      <td>TGFwdG9wIENhc2U</td>\n",
              "      <td>RWxlY3Ryb25pY3M</td>\n",
              "      <td>0</td>\n",
              "      <td>1</td>\n",
              "    </tr>\n",
              "    <tr>\n",
              "      <th>1</th>\n",
              "      <td>ab313969-02cc-48b2-9daf-0054efb70b92</td>\n",
              "      <td>None</td>\n",
              "      <td>None</td>\n",
              "      <td>QmFraW5nIEN1cHMgYW5kIE1hdHM</td>\n",
              "      <td>QmFraW5nIE1hdHMgLyBCYWtpbmcgZGlzaA</td>\n",
              "      <td>a2l0Y2hpbmcgYW5kIGRpbmluZw</td>\n",
              "      <td>0</td>\n",
              "      <td>1</td>\n",
              "    </tr>\n",
              "    <tr>\n",
              "      <th>2</th>\n",
              "      <td>acbd66ff-79f8-467a-91f9-108a45af5626</td>\n",
              "      <td>$19.95</td>\n",
              "      <td>None</td>\n",
              "      <td>R3VtbWllcyB2aXRhbWlucyBhbmQgbWluZXJhbHMgZm9yIG...</td>\n",
              "      <td>SW1tdW5pdHkgZ3VtbWllcw</td>\n",
              "      <td>SGVhbHRo</td>\n",
              "      <td>1</td>\n",
              "      <td>0</td>\n",
              "    </tr>\n",
              "    <tr>\n",
              "      <th>3</th>\n",
              "      <td>963915d6-b2e3-4098-b242-9410593cf205</td>\n",
              "      <td>$92.00</td>\n",
              "      <td>None</td>\n",
              "      <td>U2VydW1z</td>\n",
              "      <td>RmFjZSBTZXJ1bQ</td>\n",
              "      <td>YmVhdXR5IGFuZCBwZXJzb25hbCBjYXJl</td>\n",
              "      <td>1</td>\n",
              "      <td>0</td>\n",
              "    </tr>\n",
              "    <tr>\n",
              "      <th>4</th>\n",
              "      <td>b5b68f3c-b1e0-40e5-8ee5-e2f7236c1daf</td>\n",
              "      <td>$11.50</td>\n",
              "      <td>None</td>\n",
              "      <td>RWF0aW5nIFV0ZW5zaWxzL0N1dGxlcnk</td>\n",
              "      <td>Q2hvcHN0aWNrcw</td>\n",
              "      <td>a2l0Y2hpbmcgYW5kIGRpbmluZw</td>\n",
              "      <td>1</td>\n",
              "      <td>0</td>\n",
              "    </tr>\n",
              "  </tbody>\n",
              "</table>\n",
              "</div>"
            ]
          },
          "metadata": {},
          "execution_count": 24
        }
      ],
      "source": [
        "df.head()"
      ]
    },
    {
      "cell_type": "code",
      "execution_count": 25,
      "metadata": {
        "execution": {
          "iopub.execute_input": "2022-05-22T08:52:02.167789Z",
          "iopub.status.busy": "2022-05-22T08:52:02.166857Z",
          "iopub.status.idle": "2022-05-22T08:52:17.322847Z",
          "shell.execute_reply": "2022-05-22T08:52:17.321333Z",
          "shell.execute_reply.started": "2022-05-22T08:52:02.167735Z"
        },
        "id": "R1P-o5bUiN4u"
      },
      "outputs": [],
      "source": [
        "## creating a seperate column for the currency from the 'price_string' column\n",
        "df['currency'] =df.price_string.apply(lambda x:x[0] if type(x) == str else np.nan )"
      ]
    },
    {
      "cell_type": "code",
      "execution_count": 26,
      "metadata": {
        "execution": {
          "iopub.execute_input": "2022-05-22T09:57:28.683610Z",
          "iopub.status.busy": "2022-05-22T09:57:28.683359Z",
          "iopub.status.idle": "2022-05-22T09:57:53.523342Z",
          "shell.execute_reply": "2022-05-22T09:57:53.522411Z",
          "shell.execute_reply.started": "2022-05-22T09:57:28.683582Z"
        },
        "colab": {
          "base_uri": "https://localhost:8080/",
          "height": 469
        },
        "id": "kvOWKT8yiN4u",
        "outputId": "9a96d451-93a7-4bb1-e7a9-2a1162cf3807"
      },
      "outputs": [
        {
          "output_type": "execute_result",
          "data": {
            "text/plain": [
              "                                   uuid price_string price_string_unf                                         product_type                             level_1                          category  with_price  without_price currency\n",
              "0  638744a4-b0ae-4166-8cb6-5c063c862036         None             None                             TGFwdG9wIENvdmVycy9CYWdz                     TGFwdG9wIENhc2U                   RWxlY3Ryb25pY3M           0              1     None\n",
              "1  ab313969-02cc-48b2-9daf-0054efb70b92         None             None                          QmFraW5nIEN1cHMgYW5kIE1hdHM  QmFraW5nIE1hdHMgLyBCYWtpbmcgZGlzaA        a2l0Y2hpbmcgYW5kIGRpbmluZw           0              1     None\n",
              "2  acbd66ff-79f8-467a-91f9-108a45af5626       $19.95             None  R3VtbWllcyB2aXRhbWlucyBhbmQgbWluZXJhbHMgZm9yIGtpZHM              SW1tdW5pdHkgZ3VtbWllcw                          SGVhbHRo           1              0        $\n",
              "3  963915d6-b2e3-4098-b242-9410593cf205       $92.00             None                                             U2VydW1z                      RmFjZSBTZXJ1bQ  YmVhdXR5IGFuZCBwZXJzb25hbCBjYXJl           1              0        $\n",
              "4  b5b68f3c-b1e0-40e5-8ee5-e2f7236c1daf       $11.50             None                      RWF0aW5nIFV0ZW5zaWxzL0N1dGxlcnk                      Q2hvcHN0aWNrcw        a2l0Y2hpbmcgYW5kIGRpbmluZw           1              0        $"
            ],
            "text/html": [
              "<div>\n",
              "<style scoped>\n",
              "    .dataframe tbody tr th:only-of-type {\n",
              "        vertical-align: middle;\n",
              "    }\n",
              "\n",
              "    .dataframe tbody tr th {\n",
              "        vertical-align: top;\n",
              "    }\n",
              "\n",
              "    .dataframe thead th {\n",
              "        text-align: right;\n",
              "    }\n",
              "</style>\n",
              "<table border=\"1\" class=\"dataframe\">\n",
              "  <thead>\n",
              "    <tr style=\"text-align: right;\">\n",
              "      <th></th>\n",
              "      <th>uuid</th>\n",
              "      <th>price_string</th>\n",
              "      <th>price_string_unf</th>\n",
              "      <th>product_type</th>\n",
              "      <th>level_1</th>\n",
              "      <th>category</th>\n",
              "      <th>with_price</th>\n",
              "      <th>without_price</th>\n",
              "      <th>currency</th>\n",
              "    </tr>\n",
              "  </thead>\n",
              "  <tbody>\n",
              "    <tr>\n",
              "      <th>0</th>\n",
              "      <td>638744a4-b0ae-4166-8cb6-5c063c862036</td>\n",
              "      <td>None</td>\n",
              "      <td>None</td>\n",
              "      <td>TGFwdG9wIENvdmVycy9CYWdz</td>\n",
              "      <td>TGFwdG9wIENhc2U</td>\n",
              "      <td>RWxlY3Ryb25pY3M</td>\n",
              "      <td>0</td>\n",
              "      <td>1</td>\n",
              "      <td>None</td>\n",
              "    </tr>\n",
              "    <tr>\n",
              "      <th>1</th>\n",
              "      <td>ab313969-02cc-48b2-9daf-0054efb70b92</td>\n",
              "      <td>None</td>\n",
              "      <td>None</td>\n",
              "      <td>QmFraW5nIEN1cHMgYW5kIE1hdHM</td>\n",
              "      <td>QmFraW5nIE1hdHMgLyBCYWtpbmcgZGlzaA</td>\n",
              "      <td>a2l0Y2hpbmcgYW5kIGRpbmluZw</td>\n",
              "      <td>0</td>\n",
              "      <td>1</td>\n",
              "      <td>None</td>\n",
              "    </tr>\n",
              "    <tr>\n",
              "      <th>2</th>\n",
              "      <td>acbd66ff-79f8-467a-91f9-108a45af5626</td>\n",
              "      <td>$19.95</td>\n",
              "      <td>None</td>\n",
              "      <td>R3VtbWllcyB2aXRhbWlucyBhbmQgbWluZXJhbHMgZm9yIG...</td>\n",
              "      <td>SW1tdW5pdHkgZ3VtbWllcw</td>\n",
              "      <td>SGVhbHRo</td>\n",
              "      <td>1</td>\n",
              "      <td>0</td>\n",
              "      <td>$</td>\n",
              "    </tr>\n",
              "    <tr>\n",
              "      <th>3</th>\n",
              "      <td>963915d6-b2e3-4098-b242-9410593cf205</td>\n",
              "      <td>$92.00</td>\n",
              "      <td>None</td>\n",
              "      <td>U2VydW1z</td>\n",
              "      <td>RmFjZSBTZXJ1bQ</td>\n",
              "      <td>YmVhdXR5IGFuZCBwZXJzb25hbCBjYXJl</td>\n",
              "      <td>1</td>\n",
              "      <td>0</td>\n",
              "      <td>$</td>\n",
              "    </tr>\n",
              "    <tr>\n",
              "      <th>4</th>\n",
              "      <td>b5b68f3c-b1e0-40e5-8ee5-e2f7236c1daf</td>\n",
              "      <td>$11.50</td>\n",
              "      <td>None</td>\n",
              "      <td>RWF0aW5nIFV0ZW5zaWxzL0N1dGxlcnk</td>\n",
              "      <td>Q2hvcHN0aWNrcw</td>\n",
              "      <td>a2l0Y2hpbmcgYW5kIGRpbmluZw</td>\n",
              "      <td>1</td>\n",
              "      <td>0</td>\n",
              "      <td>$</td>\n",
              "    </tr>\n",
              "  </tbody>\n",
              "</table>\n",
              "</div>"
            ]
          },
          "metadata": {},
          "execution_count": 26
        }
      ],
      "source": [
        "df.head()"
      ]
    },
    {
      "cell_type": "code",
      "execution_count": 27,
      "metadata": {
        "execution": {
          "iopub.execute_input": "2022-05-22T09:26:22.423833Z",
          "iopub.status.busy": "2022-05-22T09:26:22.423281Z",
          "iopub.status.idle": "2022-05-22T09:28:48.390650Z",
          "shell.execute_reply": "2022-05-22T09:28:48.390029Z",
          "shell.execute_reply.started": "2022-05-22T09:26:22.423781Z"
        },
        "colab": {
          "base_uri": "https://localhost:8080/"
        },
        "id": "FfG0Lx0QiN4v",
        "outputId": "84d8fc04-c46e-49d7-96db-3dc5f2c1191f"
      },
      "outputs": [
        {
          "output_type": "stream",
          "name": "stdout",
          "text": [
            "<class 'pyspark.pandas.frame.DataFrame'>\n",
            "Int64Index: 13790000 entries, 0 to 13789999\n",
            "Data columns (total 9 columns):\n",
            " #   Column            Non-Null Count     Dtype \n",
            "---  ------            --------------     ----- \n",
            " 0   uuid              13790000 non-null  object\n",
            " 1   price_string      5570000 non-null   object\n",
            " 2   price_string_unf  370000 non-null    object\n",
            " 3   product_type      13720000 non-null  object\n",
            " 4   level_1           13620000 non-null  object\n",
            " 5   category          13660000 non-null  object\n",
            " 6   with_price        13790000 non-null  int64 \n",
            " 7   without_price     13790000 non-null  int64 \n",
            " 8   currency          5570000 non-null   object\n",
            "dtypes: int64(2), object(7)"
          ]
        }
      ],
      "source": [
        "df.info()"
      ]
    },
    {
      "cell_type": "code",
      "execution_count": 28,
      "metadata": {
        "execution": {
          "iopub.execute_input": "2022-05-22T09:53:57.548584Z",
          "iopub.status.busy": "2022-05-22T09:53:57.548285Z",
          "iopub.status.idle": "2022-05-22T09:54:14.734785Z",
          "shell.execute_reply": "2022-05-22T09:54:14.732831Z",
          "shell.execute_reply.started": "2022-05-22T09:53:57.548547Z"
        },
        "id": "hee7yKy0iN4v"
      },
      "outputs": [],
      "source": [
        "## extracting the currency value from the 'price_string' column using the 'extract values' function \n",
        "df['values'] = df.price_string.apply(extract_values)"
      ]
    },
    {
      "cell_type": "markdown",
      "metadata": {
        "id": "oGO5qgsIiN4w"
      },
      "source": [
        "## 4.List out the categories with average price of product."
      ]
    },
    {
      "cell_type": "code",
      "execution_count": 29,
      "metadata": {
        "execution": {
          "iopub.execute_input": "2022-05-22T09:59:35.119642Z",
          "iopub.status.busy": "2022-05-22T09:59:35.119245Z",
          "iopub.status.idle": "2022-05-22T09:59:35.427147Z",
          "shell.execute_reply": "2022-05-22T09:59:35.426040Z",
          "shell.execute_reply.started": "2022-05-22T09:59:35.119606Z"
        },
        "id": "nWK4MeJViN4w"
      },
      "outputs": [],
      "source": [
        "## getting the average product price by creating  mean aggregates over the different product categories \n",
        "categories_avg_price  = df[df.with_price == 1].groupby('category').mean()['values']"
      ]
    },
    {
      "cell_type": "code",
      "execution_count": 30,
      "metadata": {
        "execution": {
          "iopub.execute_input": "2022-05-22T09:59:39.388216Z",
          "iopub.status.busy": "2022-05-22T09:59:39.387867Z",
          "iopub.status.idle": "2022-05-22T10:00:34.358775Z",
          "shell.execute_reply": "2022-05-22T10:00:34.358011Z",
          "shell.execute_reply.started": "2022-05-22T09:59:39.388182Z"
        },
        "colab": {
          "base_uri": "https://localhost:8080/"
        },
        "id": "4ts7XTKeiN4w",
        "outputId": "66c87646-2a48-4499-a5cd-58b9ec8c2782"
      },
      "outputs": [
        {
          "output_type": "execute_result",
          "data": {
            "text/plain": [
              "category\n",
              "QmFieWNhcmU                            163.688889\n",
              "QXJ0IHN1cHBsaWVz                        19.471053\n",
              "cGV0IHN1cHBsaWVz                        14.181875\n",
              "SG91c2Vob2xkIGFuZCBDbGVhbmluZw          76.199000\n",
              "b2ZmaWNlIHByb2R1Y3Rz                    20.480000\n",
              "a2l0Y2hpbmcgYW5kIGRpbmluZw              16.703235\n",
              "SGVhbHRo                                32.557586\n",
              "Q2xvdGhpbmcgYW5kIEFjY2Vzc29yaWVz       124.842283\n",
              "RWxlY3Ryb25pY3M                         60.258182\n",
              "Z3JvY2VyaWVz                            10.541667\n",
              "YmVhdXR5IGFuZCBwZXJzb25hbCBjYXJl        34.745067\n",
              "VG9vbHMgYW5kIGhvbWUgaW1wcm92ZW1lbnQ     82.223500\n",
              "VG95cyBhbmQgR2FtZXM                     32.448947\n",
              "Name: values, dtype: float64"
            ]
          },
          "metadata": {},
          "execution_count": 30
        }
      ],
      "source": [
        "categories_avg_price"
      ]
    },
    {
      "cell_type": "markdown",
      "source": [
        "* Product categories and their average price"
      ],
      "metadata": {
        "id": "lCIdkrdfMtT_"
      }
    },
    {
      "cell_type": "code",
      "execution_count": 31,
      "metadata": {
        "colab": {
          "base_uri": "https://localhost:8080/",
          "height": 542
        },
        "id": "StgqlJC_iN4w",
        "outputId": "06b5227e-ec47-4961-cfb7-bfe1b2ef56cc"
      },
      "outputs": [
        {
          "output_type": "display_data",
          "data": {
            "text/html": [
              "<html>\n",
              "<head><meta charset=\"utf-8\" /></head>\n",
              "<body>\n",
              "    <div>            <script src=\"https://cdnjs.cloudflare.com/ajax/libs/mathjax/2.7.5/MathJax.js?config=TeX-AMS-MML_SVG\"></script><script type=\"text/javascript\">if (window.MathJax) {MathJax.Hub.Config({SVG: {font: \"STIX-Web\"}});}</script>                <script type=\"text/javascript\">window.PlotlyConfig = {MathJaxConfig: 'local'};</script>\n",
              "        <script src=\"https://cdn.plot.ly/plotly-2.8.3.min.js\"></script>                <div id=\"948f67c4-ebe5-4335-bbc1-24c93aeba0fe\" class=\"plotly-graph-div\" style=\"height:525px; width:100%;\"></div>            <script type=\"text/javascript\">                                    window.PLOTLYENV=window.PLOTLYENV || {};                                    if (document.getElementById(\"948f67c4-ebe5-4335-bbc1-24c93aeba0fe\")) {                    Plotly.newPlot(                        \"948f67c4-ebe5-4335-bbc1-24c93aeba0fe\",                        [{\"alignmentgroup\":\"True\",\"hovertemplate\":\"variable=values<br>value=%{x}<br>category=%{y}<extra></extra>\",\"legendgroup\":\"values\",\"marker\":{\"color\":\"#636efa\",\"pattern\":{\"shape\":\"\"}},\"name\":\"values\",\"offsetgroup\":\"values\",\"orientation\":\"h\",\"showlegend\":true,\"textposition\":\"auto\",\"x\":[163.6888888889052,19.47105263160885,14.181875000005006,76.19900000017499,20.48000000000243,16.703235294171364,32.557586206947526,124.84228260872449,60.258181818227484,10.541666666748569,34.74506666663277,82.22350000012855,32.44894736848918],\"xaxis\":\"x\",\"y\":[\"QmFieWNhcmU\",\"QXJ0IHN1cHBsaWVz\",\"cGV0IHN1cHBsaWVz\",\"SG91c2Vob2xkIGFuZCBDbGVhbmluZw\",\"b2ZmaWNlIHByb2R1Y3Rz\",\"a2l0Y2hpbmcgYW5kIGRpbmluZw\",\"SGVhbHRo\",\"Q2xvdGhpbmcgYW5kIEFjY2Vzc29yaWVz\",\"RWxlY3Ryb25pY3M\",\"Z3JvY2VyaWVz\",\"YmVhdXR5IGFuZCBwZXJzb25hbCBjYXJl\",\"VG9vbHMgYW5kIGhvbWUgaW1wcm92ZW1lbnQ\",\"VG95cyBhbmQgR2FtZXM\"],\"yaxis\":\"y\",\"type\":\"bar\"}],                        {\"template\":{\"data\":{\"bar\":[{\"error_x\":{\"color\":\"#2a3f5f\"},\"error_y\":{\"color\":\"#2a3f5f\"},\"marker\":{\"line\":{\"color\":\"#E5ECF6\",\"width\":0.5},\"pattern\":{\"fillmode\":\"overlay\",\"size\":10,\"solidity\":0.2}},\"type\":\"bar\"}],\"barpolar\":[{\"marker\":{\"line\":{\"color\":\"#E5ECF6\",\"width\":0.5},\"pattern\":{\"fillmode\":\"overlay\",\"size\":10,\"solidity\":0.2}},\"type\":\"barpolar\"}],\"carpet\":[{\"aaxis\":{\"endlinecolor\":\"#2a3f5f\",\"gridcolor\":\"white\",\"linecolor\":\"white\",\"minorgridcolor\":\"white\",\"startlinecolor\":\"#2a3f5f\"},\"baxis\":{\"endlinecolor\":\"#2a3f5f\",\"gridcolor\":\"white\",\"linecolor\":\"white\",\"minorgridcolor\":\"white\",\"startlinecolor\":\"#2a3f5f\"},\"type\":\"carpet\"}],\"choropleth\":[{\"colorbar\":{\"outlinewidth\":0,\"ticks\":\"\"},\"type\":\"choropleth\"}],\"contour\":[{\"colorbar\":{\"outlinewidth\":0,\"ticks\":\"\"},\"colorscale\":[[0.0,\"#0d0887\"],[0.1111111111111111,\"#46039f\"],[0.2222222222222222,\"#7201a8\"],[0.3333333333333333,\"#9c179e\"],[0.4444444444444444,\"#bd3786\"],[0.5555555555555556,\"#d8576b\"],[0.6666666666666666,\"#ed7953\"],[0.7777777777777778,\"#fb9f3a\"],[0.8888888888888888,\"#fdca26\"],[1.0,\"#f0f921\"]],\"type\":\"contour\"}],\"contourcarpet\":[{\"colorbar\":{\"outlinewidth\":0,\"ticks\":\"\"},\"type\":\"contourcarpet\"}],\"heatmap\":[{\"colorbar\":{\"outlinewidth\":0,\"ticks\":\"\"},\"colorscale\":[[0.0,\"#0d0887\"],[0.1111111111111111,\"#46039f\"],[0.2222222222222222,\"#7201a8\"],[0.3333333333333333,\"#9c179e\"],[0.4444444444444444,\"#bd3786\"],[0.5555555555555556,\"#d8576b\"],[0.6666666666666666,\"#ed7953\"],[0.7777777777777778,\"#fb9f3a\"],[0.8888888888888888,\"#fdca26\"],[1.0,\"#f0f921\"]],\"type\":\"heatmap\"}],\"heatmapgl\":[{\"colorbar\":{\"outlinewidth\":0,\"ticks\":\"\"},\"colorscale\":[[0.0,\"#0d0887\"],[0.1111111111111111,\"#46039f\"],[0.2222222222222222,\"#7201a8\"],[0.3333333333333333,\"#9c179e\"],[0.4444444444444444,\"#bd3786\"],[0.5555555555555556,\"#d8576b\"],[0.6666666666666666,\"#ed7953\"],[0.7777777777777778,\"#fb9f3a\"],[0.8888888888888888,\"#fdca26\"],[1.0,\"#f0f921\"]],\"type\":\"heatmapgl\"}],\"histogram\":[{\"marker\":{\"pattern\":{\"fillmode\":\"overlay\",\"size\":10,\"solidity\":0.2}},\"type\":\"histogram\"}],\"histogram2d\":[{\"colorbar\":{\"outlinewidth\":0,\"ticks\":\"\"},\"colorscale\":[[0.0,\"#0d0887\"],[0.1111111111111111,\"#46039f\"],[0.2222222222222222,\"#7201a8\"],[0.3333333333333333,\"#9c179e\"],[0.4444444444444444,\"#bd3786\"],[0.5555555555555556,\"#d8576b\"],[0.6666666666666666,\"#ed7953\"],[0.7777777777777778,\"#fb9f3a\"],[0.8888888888888888,\"#fdca26\"],[1.0,\"#f0f921\"]],\"type\":\"histogram2d\"}],\"histogram2dcontour\":[{\"colorbar\":{\"outlinewidth\":0,\"ticks\":\"\"},\"colorscale\":[[0.0,\"#0d0887\"],[0.1111111111111111,\"#46039f\"],[0.2222222222222222,\"#7201a8\"],[0.3333333333333333,\"#9c179e\"],[0.4444444444444444,\"#bd3786\"],[0.5555555555555556,\"#d8576b\"],[0.6666666666666666,\"#ed7953\"],[0.7777777777777778,\"#fb9f3a\"],[0.8888888888888888,\"#fdca26\"],[1.0,\"#f0f921\"]],\"type\":\"histogram2dcontour\"}],\"mesh3d\":[{\"colorbar\":{\"outlinewidth\":0,\"ticks\":\"\"},\"type\":\"mesh3d\"}],\"parcoords\":[{\"line\":{\"colorbar\":{\"outlinewidth\":0,\"ticks\":\"\"}},\"type\":\"parcoords\"}],\"pie\":[{\"automargin\":true,\"type\":\"pie\"}],\"scatter\":[{\"marker\":{\"colorbar\":{\"outlinewidth\":0,\"ticks\":\"\"}},\"type\":\"scatter\"}],\"scatter3d\":[{\"line\":{\"colorbar\":{\"outlinewidth\":0,\"ticks\":\"\"}},\"marker\":{\"colorbar\":{\"outlinewidth\":0,\"ticks\":\"\"}},\"type\":\"scatter3d\"}],\"scattercarpet\":[{\"marker\":{\"colorbar\":{\"outlinewidth\":0,\"ticks\":\"\"}},\"type\":\"scattercarpet\"}],\"scattergeo\":[{\"marker\":{\"colorbar\":{\"outlinewidth\":0,\"ticks\":\"\"}},\"type\":\"scattergeo\"}],\"scattergl\":[{\"marker\":{\"colorbar\":{\"outlinewidth\":0,\"ticks\":\"\"}},\"type\":\"scattergl\"}],\"scattermapbox\":[{\"marker\":{\"colorbar\":{\"outlinewidth\":0,\"ticks\":\"\"}},\"type\":\"scattermapbox\"}],\"scatterpolar\":[{\"marker\":{\"colorbar\":{\"outlinewidth\":0,\"ticks\":\"\"}},\"type\":\"scatterpolar\"}],\"scatterpolargl\":[{\"marker\":{\"colorbar\":{\"outlinewidth\":0,\"ticks\":\"\"}},\"type\":\"scatterpolargl\"}],\"scatterternary\":[{\"marker\":{\"colorbar\":{\"outlinewidth\":0,\"ticks\":\"\"}},\"type\":\"scatterternary\"}],\"surface\":[{\"colorbar\":{\"outlinewidth\":0,\"ticks\":\"\"},\"colorscale\":[[0.0,\"#0d0887\"],[0.1111111111111111,\"#46039f\"],[0.2222222222222222,\"#7201a8\"],[0.3333333333333333,\"#9c179e\"],[0.4444444444444444,\"#bd3786\"],[0.5555555555555556,\"#d8576b\"],[0.6666666666666666,\"#ed7953\"],[0.7777777777777778,\"#fb9f3a\"],[0.8888888888888888,\"#fdca26\"],[1.0,\"#f0f921\"]],\"type\":\"surface\"}],\"table\":[{\"cells\":{\"fill\":{\"color\":\"#EBF0F8\"},\"line\":{\"color\":\"white\"}},\"header\":{\"fill\":{\"color\":\"#C8D4E3\"},\"line\":{\"color\":\"white\"}},\"type\":\"table\"}]},\"layout\":{\"annotationdefaults\":{\"arrowcolor\":\"#2a3f5f\",\"arrowhead\":0,\"arrowwidth\":1},\"autotypenumbers\":\"strict\",\"coloraxis\":{\"colorbar\":{\"outlinewidth\":0,\"ticks\":\"\"}},\"colorscale\":{\"diverging\":[[0,\"#8e0152\"],[0.1,\"#c51b7d\"],[0.2,\"#de77ae\"],[0.3,\"#f1b6da\"],[0.4,\"#fde0ef\"],[0.5,\"#f7f7f7\"],[0.6,\"#e6f5d0\"],[0.7,\"#b8e186\"],[0.8,\"#7fbc41\"],[0.9,\"#4d9221\"],[1,\"#276419\"]],\"sequential\":[[0.0,\"#0d0887\"],[0.1111111111111111,\"#46039f\"],[0.2222222222222222,\"#7201a8\"],[0.3333333333333333,\"#9c179e\"],[0.4444444444444444,\"#bd3786\"],[0.5555555555555556,\"#d8576b\"],[0.6666666666666666,\"#ed7953\"],[0.7777777777777778,\"#fb9f3a\"],[0.8888888888888888,\"#fdca26\"],[1.0,\"#f0f921\"]],\"sequentialminus\":[[0.0,\"#0d0887\"],[0.1111111111111111,\"#46039f\"],[0.2222222222222222,\"#7201a8\"],[0.3333333333333333,\"#9c179e\"],[0.4444444444444444,\"#bd3786\"],[0.5555555555555556,\"#d8576b\"],[0.6666666666666666,\"#ed7953\"],[0.7777777777777778,\"#fb9f3a\"],[0.8888888888888888,\"#fdca26\"],[1.0,\"#f0f921\"]]},\"colorway\":[\"#636efa\",\"#EF553B\",\"#00cc96\",\"#ab63fa\",\"#FFA15A\",\"#19d3f3\",\"#FF6692\",\"#B6E880\",\"#FF97FF\",\"#FECB52\"],\"font\":{\"color\":\"#2a3f5f\"},\"geo\":{\"bgcolor\":\"white\",\"lakecolor\":\"white\",\"landcolor\":\"#E5ECF6\",\"showlakes\":true,\"showland\":true,\"subunitcolor\":\"white\"},\"hoverlabel\":{\"align\":\"left\"},\"hovermode\":\"closest\",\"mapbox\":{\"style\":\"light\"},\"paper_bgcolor\":\"white\",\"plot_bgcolor\":\"#E5ECF6\",\"polar\":{\"angularaxis\":{\"gridcolor\":\"white\",\"linecolor\":\"white\",\"ticks\":\"\"},\"bgcolor\":\"#E5ECF6\",\"radialaxis\":{\"gridcolor\":\"white\",\"linecolor\":\"white\",\"ticks\":\"\"}},\"scene\":{\"xaxis\":{\"backgroundcolor\":\"#E5ECF6\",\"gridcolor\":\"white\",\"gridwidth\":2,\"linecolor\":\"white\",\"showbackground\":true,\"ticks\":\"\",\"zerolinecolor\":\"white\"},\"yaxis\":{\"backgroundcolor\":\"#E5ECF6\",\"gridcolor\":\"white\",\"gridwidth\":2,\"linecolor\":\"white\",\"showbackground\":true,\"ticks\":\"\",\"zerolinecolor\":\"white\"},\"zaxis\":{\"backgroundcolor\":\"#E5ECF6\",\"gridcolor\":\"white\",\"gridwidth\":2,\"linecolor\":\"white\",\"showbackground\":true,\"ticks\":\"\",\"zerolinecolor\":\"white\"}},\"shapedefaults\":{\"line\":{\"color\":\"#2a3f5f\"}},\"ternary\":{\"aaxis\":{\"gridcolor\":\"white\",\"linecolor\":\"white\",\"ticks\":\"\"},\"baxis\":{\"gridcolor\":\"white\",\"linecolor\":\"white\",\"ticks\":\"\"},\"bgcolor\":\"#E5ECF6\",\"caxis\":{\"gridcolor\":\"white\",\"linecolor\":\"white\",\"ticks\":\"\"}},\"title\":{\"x\":0.05},\"xaxis\":{\"automargin\":true,\"gridcolor\":\"white\",\"linecolor\":\"white\",\"ticks\":\"\",\"title\":{\"standoff\":15},\"zerolinecolor\":\"white\",\"zerolinewidth\":2},\"yaxis\":{\"automargin\":true,\"gridcolor\":\"white\",\"linecolor\":\"white\",\"ticks\":\"\",\"title\":{\"standoff\":15},\"zerolinecolor\":\"white\",\"zerolinewidth\":2}}},\"xaxis\":{\"anchor\":\"y\",\"domain\":[0.0,1.0],\"title\":{\"text\":\"value\"}},\"yaxis\":{\"anchor\":\"x\",\"domain\":[0.0,1.0],\"title\":{\"text\":\"category\"}},\"legend\":{\"title\":{\"text\":\"variable\"},\"tracegroupgap\":0},\"margin\":{\"t\":60},\"barmode\":\"relative\"},                        {\"responsive\": true}                    ).then(function(){\n",
              "                            \n",
              "var gd = document.getElementById('948f67c4-ebe5-4335-bbc1-24c93aeba0fe');\n",
              "var x = new MutationObserver(function (mutations, observer) {{\n",
              "        var display = window.getComputedStyle(gd).display;\n",
              "        if (!display || display === 'none') {{\n",
              "            console.log([gd, 'removed!']);\n",
              "            Plotly.purge(gd);\n",
              "            observer.disconnect();\n",
              "        }}\n",
              "}});\n",
              "\n",
              "// Listen for the removal of the full notebook cells\n",
              "var notebookContainer = gd.closest('#notebook-container');\n",
              "if (notebookContainer) {{\n",
              "    x.observe(notebookContainer, {childList: true});\n",
              "}}\n",
              "\n",
              "// Listen for the clearing of the current output cell\n",
              "var outputEl = gd.closest('.output');\n",
              "if (outputEl) {{\n",
              "    x.observe(outputEl, {childList: true});\n",
              "}}\n",
              "\n",
              "                        })                };                            </script>        </div>\n",
              "</body>\n",
              "</html>"
            ]
          },
          "metadata": {}
        }
      ],
      "source": [
        "categories_avg_price.plot(kind = 'barh')"
      ]
    }
  ],
  "metadata": {
    "kernelspec": {
      "display_name": "Python 3 (ipykernel)",
      "language": "python",
      "name": "python3"
    },
    "language_info": {
      "codemirror_mode": {
        "name": "ipython",
        "version": 3
      },
      "file_extension": ".py",
      "mimetype": "text/x-python",
      "name": "python",
      "nbconvert_exporter": "python",
      "pygments_lexer": "ipython3",
      "version": "3.9.7"
    },
    "colab": {
      "name": "be-zen-pandas-spark.ipynb",
      "provenance": [],
      "collapsed_sections": [],
      "include_colab_link": true
    }
  },
  "nbformat": 4,
  "nbformat_minor": 0
}